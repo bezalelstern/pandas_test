{
 "cells": [
  {
   "metadata": {},
   "cell_type": "code",
   "source": [
    "from calendar import month\n",
    "import matplotlib.pyplot as plt\n",
    "import pandas as pd"
   ],
   "id": "17a7b132e53c5faa",
   "outputs": [],
   "execution_count": null
  },
  {
   "metadata": {},
   "cell_type": "markdown",
   "source": [
    "# Exercise: Exploratory Data Analysis with Pandas\n",
    "## Instructions\n",
    "1. Data Collection\n",
    "    - Search and collect data on the following: (1993 - 2023)\n",
    "        - Israel interest tares\n",
    "        - US interest rates\n",
    "        - USD to ILS exchange rates\n",
    "    - For each dataset, create a pandas DataFrame with the following columns:\n",
    "        - Year\n",
    "        - Month\n",
    "        - Current_Rate (Interest rate or exchange rate for that month)\n",
    "        - Change_From_Last_Month (Difference in Current_Rate from the previous month)\n",
    "        - Optional: You may include additional columns if you find them useful (e.g., Change_Percentage, Date).\n",
    "\n"
   ],
   "id": "2b8e938eb34b0315"
  },
  {
   "metadata": {},
   "cell_type": "code",
   "source": [
    "#ייבוא הנתונים\n",
    "chenge = pd.read_csv('data/USD_ILS Historical Data.csv')\n",
    "usa_interes = pd.read_csv('data/FEDFUNDS.csv')\n",
    "israel_interes = pd.read_csv('data/BR.csv')\n",
    "\n"
   ],
   "id": "289b403fc5e4e9bc",
   "outputs": [],
   "execution_count": null
  },
  {
   "metadata": {},
   "cell_type": "code",
   "source": [
    "#שפצור הנתונים, יצירת עמודות נדרשות וסידור מחדש\n",
    "chenge['Date'] = pd.to_datetime(chenge['Date'])\n",
    "chenge['year'] = chenge['Date'].dt.year\n",
    "chenge['month'] = chenge['Date'].dt.month\n",
    "chenge['Change %'] = chenge['Change %'].str.replace('%', '').astype(float)\n",
    "chenge.rename(columns={'Change %':'Current_Rate_chenge'}, inplace=True)\n"
   ],
   "id": "f60562464afa42b0",
   "outputs": [],
   "execution_count": null
  },
  {
   "metadata": {},
   "cell_type": "code",
   "source": [
    "chenge.sort_values(['year','month'], inplace=True )\n",
    "chenge['Change_From_Last_Month_USD_ILS'] = chenge['Current_Rate_chenge'].diff()\n",
    "chenge = chenge[['year', 'month', 'Current_Rate_chenge', 'Change_From_Last_Month_USD_ILS']]"
   ],
   "id": "48f97b3b18e29fe1",
   "outputs": [],
   "execution_count": null
  },
  {
   "metadata": {},
   "cell_type": "code",
   "source": "usa_interes['DATE'] = pd.to_datetime(usa_interes['DATE'])",
   "id": "541d1ea4e8d58206",
   "outputs": [],
   "execution_count": null
  },
  {
   "metadata": {},
   "cell_type": "code",
   "source": [
    "usa_interes['year'] = usa_interes['DATE'].dt.year\n",
    "usa_interes['month'] = usa_interes['DATE'].dt.month\n",
    "usa_interes.rename(columns={'FEDFUNDS':'Current_Rate'}, inplace=True)\n",
    "usa_interes['Change_From_Last_Month'] = usa_interes['Current_Rate'].diff()\n",
    "usa_interes.head()"
   ],
   "id": "f03e2f4e350d2d6e",
   "outputs": [],
   "execution_count": null
  },
  {
   "metadata": {},
   "cell_type": "code",
   "source": [
    "israel_interes['TIME_PERIOD'] = pd.to_datetime(israel_interes['TIME_PERIOD'])\n",
    "usa_interes.rename(columns={'FEDFUNDS':'Current_Rate'}, inplace=True)"
   ],
   "id": "c5353fac61c618ad",
   "outputs": [],
   "execution_count": null
  },
  {
   "metadata": {},
   "cell_type": "code",
   "source": [
    "\n",
    "israel_interes['year'] = israel_interes['TIME_PERIOD'].dt.year\n",
    "israel_interes['month'] = israel_interes['TIME_PERIOD'].dt.month"
   ],
   "id": "e1c93be7a4e3f460",
   "outputs": [],
   "execution_count": null
  },
  {
   "metadata": {},
   "cell_type": "code",
   "source": "israel_interes = israel_interes[['TIME_PERIOD','OBS_VALUE','year','month']]",
   "id": "b800d9d44744fbc1",
   "outputs": [],
   "execution_count": null
  },
  {
   "metadata": {},
   "cell_type": "code",
   "source": [
    "israel_monthly = israel_interes.groupby(['year', 'month'])['OBS_VALUE'].mean().reset_index()\n",
    "israel_monthly.head()"
   ],
   "id": "9a7f247f218f93b6",
   "outputs": [],
   "execution_count": null
  },
  {
   "metadata": {},
   "cell_type": "markdown",
   "source": [
    "## Part A: Single DataFrame Analysis \n",
    "1. Display the first 5 rows of the US interest rates DataFrame.\n",
    "\n",
    "2. Calculate the average Israeli interest rate over the period covered by your data.\n",
    "\n",
    "3. Find the month and year when the USD to ILS exchange rate had the highest increase from the previous month.\n",
    "\n",
    "4. Determine the total number of months where the US interest rate decreased compared to the previous month.\n",
    "\n",
    "5. Add a new column to the Israeli interest rates DataFrame called Change_Percentage, representing the percentage change from the previous month.\n",
    "\n"
   ],
   "id": "71323c7318598fbb"
  },
  {
   "metadata": {},
   "cell_type": "code",
   "source": [
    "# A - 1\n",
    "# your code here\n",
    "usa_interes.head()"
   ],
   "id": "399887d7fba8803a",
   "outputs": [],
   "execution_count": null
  },
  {
   "metadata": {},
   "cell_type": "code",
   "source": [
    "# A - 2\n",
    "# your code here\n",
    "israel_monthly['OBS_VALUE'].mean()"
   ],
   "id": "91d022cc344514de",
   "outputs": [],
   "execution_count": null
  },
  {
   "metadata": {},
   "cell_type": "code",
   "source": [
    "# A - 3\n",
    "# your code here\n",
    "chenge['Change_From_Last_Month'].max()"
   ],
   "id": "c29c363cd4e9a279",
   "outputs": [],
   "execution_count": null
  },
  {
   "metadata": {},
   "cell_type": "code",
   "source": [
    "# A - 4\n",
    "# your code here\n",
    "usa_interes[usa_interes['Change_From_Last_Month'] < 0]['Change_From_Last_Month'].count()"
   ],
   "id": "c4c8ec122d04672",
   "outputs": [],
   "execution_count": null
  },
  {
   "metadata": {},
   "cell_type": "code",
   "source": [
    "# A - 5\n",
    "# your code here\n",
    "israel_monthly['Change_Percentage'] = israel_monthly['OBS_VALUE'].diff()"
   ],
   "id": "49115d5dbff52532",
   "outputs": [],
   "execution_count": null
  },
  {
   "metadata": {},
   "cell_type": "markdown",
   "source": [
    "## Part B: Merging DataFrames\n",
    "1. Merge the US and Israeli interest rates DataFrames on Year and Month.\n",
    "\n",
    "2. In the merged DataFrame, create a new column Rate_Difference that shows the difference between the Israeli and US interest rates for each month.\n",
    "\n",
    "3. Identify all months when the Israeli interest rate was at least 1% higher than the US interest rate - IH (Israeli Higher).\n",
    "Identify all months when the US interest rate was at least 1% higher than the Israeli interest rate - UH (US Higher).\n",
    "Identify all months when the interest rates were within 1% of each other - N (Near)\n",
    "make a new column called Rate_Comparison with the following values: IH, UH, or N.\n",
    "\n",
    "4. Merge the exchange rate DataFrame with the merged interest rates DataFrame.\n",
    "\n",
    "5. After merging all three DataFrames, find the correlation between the Rate_Difference and the Current_Rate of the exchange rate.\n",
    "hint: find the connection between the difference in interest rates and the exchange rates, use any method you think is appropriate.\n",
    "provide an explanation of the results (in Hebrew) - at least 2 rows of text + a proof of the connection(some output) you found.\n"
   ],
   "id": "37324394ba9e1454"
  },
  {
   "metadata": {},
   "cell_type": "code",
   "source": [
    "# B - 1\n",
    "# your code here\n",
    "marge_df = pd.merge(usa_interes,israel_monthly, on = ['year','month'], how = 'left')"
   ],
   "id": "f6fcdba8d4d32d73",
   "outputs": [],
   "execution_count": null
  },
  {
   "metadata": {},
   "cell_type": "code",
   "source": "marge_df.head(100)",
   "id": "4fb2536a90a4749",
   "outputs": [],
   "execution_count": null
  },
  {
   "metadata": {},
   "cell_type": "code",
   "source": [
    "# B - 2\n",
    "# your code here\n",
    "marge_df['Rate_Differenc'] = marge_df['Current_Rate'] - marge_df['OBS_VALUE']"
   ],
   "id": "7f18978fee56c6d6",
   "outputs": [],
   "execution_count": null
  },
  {
   "metadata": {},
   "cell_type": "code",
   "source": [
    "# B - 4\n",
    "# your code here\n",
    "total_marge = pd.merge(chenge, marge_df, on = ['year','month'], how = 'left')\n",
    "total_marge = total_marge[12:361]\n",
    "total_marge.head(100)"
   ],
   "id": "3145d351d7cbe982",
   "outputs": [],
   "execution_count": null
  },
  {
   "metadata": {},
   "cell_type": "code",
   "source": [
    "# B - 5\n",
    "# your code here\n",
    "plt.figure()\n",
    "plt.scatter(total_marge['Rate_Differenc'],total_marge['Current_Rate_chenge'])\n",
    "plt.xlabel('Rate Differenc')\n",
    "plt.ylabel('Current_Rate_chenge %')\n",
    "plt.title('Rate Differenc and Current_Rate_chenge correlation')\n",
    "plt.show()"
   ],
   "id": "fe04eba74c68ab35",
   "outputs": [],
   "execution_count": null
  },
  {
   "metadata": {},
   "cell_type": "markdown",
   "source": "מהגרף ניתן לראות כי יחס ההמרה שומר על מגמה יציבה ולא מושפע מיחס הריבית",
   "id": "ae9ce7bbc25457f1"
  },
  {
   "metadata": {},
   "cell_type": "markdown",
   "source": [
    "## Part C: Analyzing Relationships Between DataFrames\n",
    "1. Analyze whether increases in US interest rates are associated with increases or decreases in the USD to ILS exchange rate in the same month.\n",
    "\n",
    "2. Determine if changes in the Israeli interest rate have a stronger impact on the exchange rate than changes in the US interest rate.\n",
    "\n",
    "3. Find any time lags in the effect of interest rate changes on the exchange rate. For example, does a change in US interest rates affect the exchange rate in the following month?\n",
    "(כלומר- האם כשיש שינוי בריבית כלשהי - האם מייד יש שינוי בשער ההמרה? או שיש דיליי של חודש/חודשים עד שמרגישים את ההשפעה - אם בכלל?)\n",
    "\n",
    "4. Calculate the rolling past 3-month average of the exchange rate for each data time, and add it as a new column.\n",
    "\n",
    "5. Identify any periods where both US and Israeli interest rates were decreasing, and analyze how the exchange rate behaved during those periods.\n",
    "\n"
   ],
   "id": "22213f81bdf06965"
  },
  {
   "metadata": {},
   "cell_type": "code",
   "source": [
    "# Bonus \n",
    "plt.figure()\n",
    "plt.scatter(usa_interes.Current_Rate[:361], chenge['Current_Rate_chenge'][:361])\n",
    "plt.xlabel('Current_Rate_chenge')\n",
    "plt.ylabel('Current_Rate_chenge %')\n",
    "plt.title('Current_Rate_chenge correlation')\n",
    "plt.show()"
   ],
   "id": "706a690fd803211c",
   "outputs": [],
   "execution_count": null
  },
  {
   "metadata": {},
   "cell_type": "markdown",
   "source": [
    "# Bonus\n",
    "choose 3 global / local events or periods that you think could have affected the exchange rate or interest rates\n",
    "and analyze the effect of these events on the data you collected.\n",
    "show proof of your analysis that supports your claim.\n",
    "\n",
    "(כלומר- תבחנו אירועים שקרו בתקופה שאתם עובדים עליה ובדקו איך הם השפיעו על הנתונים שאתם עובדים איתם)\n",
    "למשל: בחירות בארה״ב, בחירות בישראל, רוסיה אוקראינה, מלחמות בישראל וכו׳."
   ],
   "id": "8be22debf92d8f3a"
  },
  {
   "metadata": {},
   "cell_type": "code",
   "source": "# Your code here",
   "id": "7cd992b43f3700e8",
   "outputs": [],
   "execution_count": null
  }
 ],
 "metadata": {
  "kernelspec": {
   "display_name": "Python 3",
   "language": "python",
   "name": "python3"
  },
  "language_info": {
   "codemirror_mode": {
    "name": "ipython",
    "version": 2
   },
   "file_extension": ".py",
   "mimetype": "text/x-python",
   "name": "python",
   "nbconvert_exporter": "python",
   "pygments_lexer": "ipython2",
   "version": "2.7.6"
  }
 },
 "nbformat": 4,
 "nbformat_minor": 5
}
