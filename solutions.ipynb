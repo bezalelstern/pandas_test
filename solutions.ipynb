{
 "cells": [
  {
   "metadata": {
    "ExecuteTime": {
     "end_time": "2024-11-11T15:35:15.141298Z",
     "start_time": "2024-11-11T15:35:14.371315Z"
    }
   },
   "cell_type": "code",
   "source": [
    "from calendar import month\n",
    "import matplotlib.pyplot as plt\n",
    "import pandas as pd"
   ],
   "id": "17a7b132e53c5faa",
   "outputs": [],
   "execution_count": 1
  },
  {
   "metadata": {},
   "cell_type": "markdown",
   "source": [
    "# Exercise: Exploratory Data Analysis with Pandas\n",
    "## Instructions\n",
    "1. Data Collection\n",
    "    - Search and collect data on the following: (1993 - 2023)\n",
    "        - Israel interest tares\n",
    "        - US interest rates\n",
    "        - USD to ILS exchange rates\n",
    "    - For each dataset, create a pandas DataFrame with the following columns:\n",
    "        - Year\n",
    "        - Month\n",
    "        - Current_Rate (Interest rate or exchange rate for that month)\n",
    "        - Change_From_Last_Month (Difference in Current_Rate from the previous month)\n",
    "        - Optional: You may include additional columns if you find them useful (e.g., Change_Percentage, Date).\n",
    "\n"
   ],
   "id": "2b8e938eb34b0315"
  },
  {
   "metadata": {
    "ExecuteTime": {
     "end_time": "2024-11-11T15:35:17.303392Z",
     "start_time": "2024-11-11T15:35:17.210888Z"
    }
   },
   "cell_type": "code",
   "source": [
    "#ייבוא הנתונים\n",
    "chenge = pd.read_csv('data/USD_ILS Historical Data.csv')\n",
    "usa_interes = pd.read_csv('data/FEDFUNDS.csv')\n",
    "israel_interes = pd.read_csv('data/BR.csv')\n",
    "\n"
   ],
   "id": "289b403fc5e4e9bc",
   "outputs": [],
   "execution_count": 2
  },
  {
   "metadata": {
    "ExecuteTime": {
     "end_time": "2024-11-11T15:35:31.255702Z",
     "start_time": "2024-11-11T15:35:31.243095Z"
    }
   },
   "cell_type": "code",
   "source": [
    "#שפצור הנתונים, יצירת עמודות נדרשות וסידור מחדש\n",
    "chenge['Date'] = pd.to_datetime(chenge['Date'])\n",
    "chenge['year'] = chenge['Date'].dt.year\n",
    "chenge['month'] = chenge['Date'].dt.month\n",
    "chenge['Change %'] = chenge['Change %'].str.replace('%', '').astype(float)\n",
    "chenge.rename(columns={'Change %':'Current_Rate_chenge'}, inplace=True)\n"
   ],
   "id": "f60562464afa42b0",
   "outputs": [],
   "execution_count": 3
  },
  {
   "metadata": {
    "ExecuteTime": {
     "end_time": "2024-11-11T15:35:34.511620Z",
     "start_time": "2024-11-11T15:35:34.504575Z"
    }
   },
   "cell_type": "code",
   "source": [
    "chenge.sort_values(['year','month'], inplace=True )\n",
    "chenge['Change_From_Last_Month_USD_ILS'] = chenge['Current_Rate_chenge'].diff()\n",
    "chenge = chenge[['year', 'month', 'Current_Rate_chenge', 'Change_From_Last_Month_USD_ILS']]"
   ],
   "id": "48f97b3b18e29fe1",
   "outputs": [],
   "execution_count": 4
  },
  {
   "metadata": {
    "ExecuteTime": {
     "end_time": "2024-11-11T15:35:51.470993Z",
     "start_time": "2024-11-11T15:35:51.465239Z"
    }
   },
   "cell_type": "code",
   "source": "usa_interes['DATE'] = pd.to_datetime(usa_interes['DATE'])",
   "id": "541d1ea4e8d58206",
   "outputs": [],
   "execution_count": 5
  },
  {
   "metadata": {
    "ExecuteTime": {
     "end_time": "2024-11-11T15:35:53.271982Z",
     "start_time": "2024-11-11T15:35:53.252078Z"
    }
   },
   "cell_type": "code",
   "source": [
    "usa_interes['year'] = usa_interes['DATE'].dt.year\n",
    "usa_interes['month'] = usa_interes['DATE'].dt.month\n",
    "usa_interes.rename(columns={'FEDFUNDS':'Current_Rate'}, inplace=True)\n",
    "usa_interes['Change_From_Last_Month'] = usa_interes['Current_Rate'].diff()\n",
    "usa_interes.head()"
   ],
   "id": "f03e2f4e350d2d6e",
   "outputs": [
    {
     "data": {
      "text/plain": [
       "        DATE  Current_Rate  year  month  Change_From_Last_Month\n",
       "0 1993-01-01          3.02  1993      1                     NaN\n",
       "1 1993-02-01          3.03  1993      2                    0.01\n",
       "2 1993-03-01          3.07  1993      3                    0.04\n",
       "3 1993-04-01          2.96  1993      4                   -0.11\n",
       "4 1993-05-01          3.00  1993      5                    0.04"
      ],
      "text/html": [
       "<div>\n",
       "<style scoped>\n",
       "    .dataframe tbody tr th:only-of-type {\n",
       "        vertical-align: middle;\n",
       "    }\n",
       "\n",
       "    .dataframe tbody tr th {\n",
       "        vertical-align: top;\n",
       "    }\n",
       "\n",
       "    .dataframe thead th {\n",
       "        text-align: right;\n",
       "    }\n",
       "</style>\n",
       "<table border=\"1\" class=\"dataframe\">\n",
       "  <thead>\n",
       "    <tr style=\"text-align: right;\">\n",
       "      <th></th>\n",
       "      <th>DATE</th>\n",
       "      <th>Current_Rate</th>\n",
       "      <th>year</th>\n",
       "      <th>month</th>\n",
       "      <th>Change_From_Last_Month</th>\n",
       "    </tr>\n",
       "  </thead>\n",
       "  <tbody>\n",
       "    <tr>\n",
       "      <th>0</th>\n",
       "      <td>1993-01-01</td>\n",
       "      <td>3.02</td>\n",
       "      <td>1993</td>\n",
       "      <td>1</td>\n",
       "      <td>NaN</td>\n",
       "    </tr>\n",
       "    <tr>\n",
       "      <th>1</th>\n",
       "      <td>1993-02-01</td>\n",
       "      <td>3.03</td>\n",
       "      <td>1993</td>\n",
       "      <td>2</td>\n",
       "      <td>0.01</td>\n",
       "    </tr>\n",
       "    <tr>\n",
       "      <th>2</th>\n",
       "      <td>1993-03-01</td>\n",
       "      <td>3.07</td>\n",
       "      <td>1993</td>\n",
       "      <td>3</td>\n",
       "      <td>0.04</td>\n",
       "    </tr>\n",
       "    <tr>\n",
       "      <th>3</th>\n",
       "      <td>1993-04-01</td>\n",
       "      <td>2.96</td>\n",
       "      <td>1993</td>\n",
       "      <td>4</td>\n",
       "      <td>-0.11</td>\n",
       "    </tr>\n",
       "    <tr>\n",
       "      <th>4</th>\n",
       "      <td>1993-05-01</td>\n",
       "      <td>3.00</td>\n",
       "      <td>1993</td>\n",
       "      <td>5</td>\n",
       "      <td>0.04</td>\n",
       "    </tr>\n",
       "  </tbody>\n",
       "</table>\n",
       "</div>"
      ]
     },
     "execution_count": 6,
     "metadata": {},
     "output_type": "execute_result"
    }
   ],
   "execution_count": 6
  },
  {
   "metadata": {
    "ExecuteTime": {
     "end_time": "2024-11-11T15:35:56.324716Z",
     "start_time": "2024-11-11T15:35:56.316759Z"
    }
   },
   "cell_type": "code",
   "source": [
    "israel_interes['TIME_PERIOD'] = pd.to_datetime(israel_interes['TIME_PERIOD'])\n",
    "usa_interes.rename(columns={'FEDFUNDS':'Current_Rate'}, inplace=True)"
   ],
   "id": "c5353fac61c618ad",
   "outputs": [],
   "execution_count": 7
  },
  {
   "metadata": {
    "ExecuteTime": {
     "end_time": "2024-11-11T15:35:57.887105Z",
     "start_time": "2024-11-11T15:35:57.882232Z"
    }
   },
   "cell_type": "code",
   "source": [
    "\n",
    "israel_interes['year'] = israel_interes['TIME_PERIOD'].dt.year\n",
    "israel_interes['month'] = israel_interes['TIME_PERIOD'].dt.month"
   ],
   "id": "e1c93be7a4e3f460",
   "outputs": [],
   "execution_count": 8
  },
  {
   "metadata": {
    "ExecuteTime": {
     "end_time": "2024-11-11T15:36:04.317163Z",
     "start_time": "2024-11-11T15:36:04.311851Z"
    }
   },
   "cell_type": "code",
   "source": "israel_interes = israel_interes[['TIME_PERIOD','OBS_VALUE','year','month']]",
   "id": "b800d9d44744fbc1",
   "outputs": [],
   "execution_count": 9
  },
  {
   "metadata": {
    "ExecuteTime": {
     "end_time": "2024-11-11T15:36:06.937916Z",
     "start_time": "2024-11-11T15:36:06.929186Z"
    }
   },
   "cell_type": "code",
   "source": [
    "israel_monthly = israel_interes.groupby(['year', 'month'])['OBS_VALUE'].mean().reset_index()\n",
    "israel_monthly.head()"
   ],
   "id": "9a7f247f218f93b6",
   "outputs": [
    {
     "data": {
      "text/plain": [
       "   year  month  OBS_VALUE\n",
       "0  1994      1  10.500000\n",
       "1  1994      2  10.500000\n",
       "2  1994      3  10.500000\n",
       "3  1994      4  10.500000\n",
       "4  1994      5  10.919355"
      ],
      "text/html": [
       "<div>\n",
       "<style scoped>\n",
       "    .dataframe tbody tr th:only-of-type {\n",
       "        vertical-align: middle;\n",
       "    }\n",
       "\n",
       "    .dataframe tbody tr th {\n",
       "        vertical-align: top;\n",
       "    }\n",
       "\n",
       "    .dataframe thead th {\n",
       "        text-align: right;\n",
       "    }\n",
       "</style>\n",
       "<table border=\"1\" class=\"dataframe\">\n",
       "  <thead>\n",
       "    <tr style=\"text-align: right;\">\n",
       "      <th></th>\n",
       "      <th>year</th>\n",
       "      <th>month</th>\n",
       "      <th>OBS_VALUE</th>\n",
       "    </tr>\n",
       "  </thead>\n",
       "  <tbody>\n",
       "    <tr>\n",
       "      <th>0</th>\n",
       "      <td>1994</td>\n",
       "      <td>1</td>\n",
       "      <td>10.500000</td>\n",
       "    </tr>\n",
       "    <tr>\n",
       "      <th>1</th>\n",
       "      <td>1994</td>\n",
       "      <td>2</td>\n",
       "      <td>10.500000</td>\n",
       "    </tr>\n",
       "    <tr>\n",
       "      <th>2</th>\n",
       "      <td>1994</td>\n",
       "      <td>3</td>\n",
       "      <td>10.500000</td>\n",
       "    </tr>\n",
       "    <tr>\n",
       "      <th>3</th>\n",
       "      <td>1994</td>\n",
       "      <td>4</td>\n",
       "      <td>10.500000</td>\n",
       "    </tr>\n",
       "    <tr>\n",
       "      <th>4</th>\n",
       "      <td>1994</td>\n",
       "      <td>5</td>\n",
       "      <td>10.919355</td>\n",
       "    </tr>\n",
       "  </tbody>\n",
       "</table>\n",
       "</div>"
      ]
     },
     "execution_count": 10,
     "metadata": {},
     "output_type": "execute_result"
    }
   ],
   "execution_count": 10
  },
  {
   "metadata": {},
   "cell_type": "markdown",
   "source": [
    "## Part A: Single DataFrame Analysis \n",
    "1. Display the first 5 rows of the US interest rates DataFrame.\n",
    "\n",
    "2. Calculate the average Israeli interest rate over the period covered by your data.\n",
    "\n",
    "3. Find the month and year when the USD to ILS exchange rate had the highest increase from the previous month.\n",
    "\n",
    "4. Determine the total number of months where the US interest rate decreased compared to the previous month.\n",
    "\n",
    "5. Add a new column to the Israeli interest rates DataFrame called Change_Percentage, representing the percentage change from the previous month.\n",
    "\n"
   ],
   "id": "71323c7318598fbb"
  },
  {
   "metadata": {
    "ExecuteTime": {
     "end_time": "2024-11-11T15:36:14.463955Z",
     "start_time": "2024-11-11T15:36:14.457710Z"
    }
   },
   "cell_type": "code",
   "source": [
    "# A - 1\n",
    "# your code here\n",
    "usa_interes.head()"
   ],
   "id": "399887d7fba8803a",
   "outputs": [
    {
     "data": {
      "text/plain": [
       "        DATE  Current_Rate  year  month  Change_From_Last_Month\n",
       "0 1993-01-01          3.02  1993      1                     NaN\n",
       "1 1993-02-01          3.03  1993      2                    0.01\n",
       "2 1993-03-01          3.07  1993      3                    0.04\n",
       "3 1993-04-01          2.96  1993      4                   -0.11\n",
       "4 1993-05-01          3.00  1993      5                    0.04"
      ],
      "text/html": [
       "<div>\n",
       "<style scoped>\n",
       "    .dataframe tbody tr th:only-of-type {\n",
       "        vertical-align: middle;\n",
       "    }\n",
       "\n",
       "    .dataframe tbody tr th {\n",
       "        vertical-align: top;\n",
       "    }\n",
       "\n",
       "    .dataframe thead th {\n",
       "        text-align: right;\n",
       "    }\n",
       "</style>\n",
       "<table border=\"1\" class=\"dataframe\">\n",
       "  <thead>\n",
       "    <tr style=\"text-align: right;\">\n",
       "      <th></th>\n",
       "      <th>DATE</th>\n",
       "      <th>Current_Rate</th>\n",
       "      <th>year</th>\n",
       "      <th>month</th>\n",
       "      <th>Change_From_Last_Month</th>\n",
       "    </tr>\n",
       "  </thead>\n",
       "  <tbody>\n",
       "    <tr>\n",
       "      <th>0</th>\n",
       "      <td>1993-01-01</td>\n",
       "      <td>3.02</td>\n",
       "      <td>1993</td>\n",
       "      <td>1</td>\n",
       "      <td>NaN</td>\n",
       "    </tr>\n",
       "    <tr>\n",
       "      <th>1</th>\n",
       "      <td>1993-02-01</td>\n",
       "      <td>3.03</td>\n",
       "      <td>1993</td>\n",
       "      <td>2</td>\n",
       "      <td>0.01</td>\n",
       "    </tr>\n",
       "    <tr>\n",
       "      <th>2</th>\n",
       "      <td>1993-03-01</td>\n",
       "      <td>3.07</td>\n",
       "      <td>1993</td>\n",
       "      <td>3</td>\n",
       "      <td>0.04</td>\n",
       "    </tr>\n",
       "    <tr>\n",
       "      <th>3</th>\n",
       "      <td>1993-04-01</td>\n",
       "      <td>2.96</td>\n",
       "      <td>1993</td>\n",
       "      <td>4</td>\n",
       "      <td>-0.11</td>\n",
       "    </tr>\n",
       "    <tr>\n",
       "      <th>4</th>\n",
       "      <td>1993-05-01</td>\n",
       "      <td>3.00</td>\n",
       "      <td>1993</td>\n",
       "      <td>5</td>\n",
       "      <td>0.04</td>\n",
       "    </tr>\n",
       "  </tbody>\n",
       "</table>\n",
       "</div>"
      ]
     },
     "execution_count": 11,
     "metadata": {},
     "output_type": "execute_result"
    }
   ],
   "execution_count": 11
  },
  {
   "metadata": {
    "ExecuteTime": {
     "end_time": "2024-11-11T15:36:17.440691Z",
     "start_time": "2024-11-11T15:36:17.432571Z"
    }
   },
   "cell_type": "code",
   "source": [
    "# A - 2\n",
    "# your code here\n",
    "israel_monthly['OBS_VALUE'].mean()"
   ],
   "id": "91d022cc344514de",
   "outputs": [
    {
     "data": {
      "text/plain": [
       "4.902782735581492"
      ]
     },
     "execution_count": 12,
     "metadata": {},
     "output_type": "execute_result"
    }
   ],
   "execution_count": 12
  },
  {
   "metadata": {
    "ExecuteTime": {
     "end_time": "2024-11-11T15:36:44.950598Z",
     "start_time": "2024-11-11T15:36:44.945089Z"
    }
   },
   "cell_type": "code",
   "source": [
    "# A - 3\n",
    "# your code here\n",
    "chenge['Change_From_Last_Month_USD_ILS'].max()"
   ],
   "id": "c29c363cd4e9a279",
   "outputs": [
    {
     "data": {
      "text/plain": [
       "11.370000000000001"
      ]
     },
     "execution_count": 14,
     "metadata": {},
     "output_type": "execute_result"
    }
   ],
   "execution_count": 14
  },
  {
   "metadata": {
    "ExecuteTime": {
     "end_time": "2024-11-11T15:37:20.017463Z",
     "start_time": "2024-11-11T15:37:20.010098Z"
    }
   },
   "cell_type": "code",
   "source": [
    "# A - 4\n",
    "# your code here\n",
    "usa_interes[usa_interes['Change_From_Last_Month'] < 0]['Change_From_Last_Month'].count()"
   ],
   "id": "c4c8ec122d04672",
   "outputs": [
    {
     "data": {
      "text/plain": [
       "123"
      ]
     },
     "execution_count": 16,
     "metadata": {},
     "output_type": "execute_result"
    }
   ],
   "execution_count": 16
  },
  {
   "metadata": {
    "ExecuteTime": {
     "end_time": "2024-11-11T15:37:47.404302Z",
     "start_time": "2024-11-11T15:37:47.397794Z"
    }
   },
   "cell_type": "code",
   "source": [
    "# A - 5\n",
    "# your code here\n",
    "israel_monthly['Change_Percentage'] = israel_monthly['OBS_VALUE'].diff()\n",
    "israel_monthly['Change_Percentage']"
   ],
   "id": "49115d5dbff52532",
   "outputs": [
    {
     "data": {
      "text/plain": [
       "0           NaN\n",
       "1      0.000000\n",
       "2      0.000000\n",
       "3      0.000000\n",
       "4      0.419355\n",
       "         ...   \n",
       "344    0.580645\n",
       "345    0.556452\n",
       "346    0.310215\n",
       "347    0.383333\n",
       "348    0.000000\n",
       "Name: Change_Percentage, Length: 349, dtype: float64"
      ]
     },
     "execution_count": 18,
     "metadata": {},
     "output_type": "execute_result"
    }
   ],
   "execution_count": 18
  },
  {
   "metadata": {},
   "cell_type": "markdown",
   "source": [
    "## Part B: Merging DataFrames\n",
    "1. Merge the US and Israeli interest rates DataFrames on Year and Month.\n",
    "\n",
    "2. In the merged DataFrame, create a new column Rate_Difference that shows the difference between the Israeli and US interest rates for each month.\n",
    "\n",
    "3. Identify all months when the Israeli interest rate was at least 1% higher than the US interest rate - IH (Israeli Higher).\n",
    "Identify all months when the US interest rate was at least 1% higher than the Israeli interest rate - UH (US Higher).\n",
    "Identify all months when the interest rates were within 1% of each other - N (Near)\n",
    "make a new column called Rate_Comparison with the following values: IH, UH, or N.\n",
    "\n",
    "4. Merge the exchange rate DataFrame with the merged interest rates DataFrame.\n",
    "\n",
    "5. After merging all three DataFrames, find the correlation between the Rate_Difference and the Current_Rate of the exchange rate.\n",
    "hint: find the connection between the difference in interest rates and the exchange rates, use any method you think is appropriate.\n",
    "provide an explanation of the results (in Hebrew) - at least 2 rows of text + a proof of the connection(some output) you found.\n"
   ],
   "id": "37324394ba9e1454"
  },
  {
   "metadata": {
    "ExecuteTime": {
     "end_time": "2024-11-11T15:37:53.014405Z",
     "start_time": "2024-11-11T15:37:53.009627Z"
    }
   },
   "cell_type": "code",
   "source": [
    "# B - 1\n",
    "# your code here\n",
    "marge_df = pd.merge(usa_interes,israel_monthly, on = ['year','month'], how = 'left')"
   ],
   "id": "f6fcdba8d4d32d73",
   "outputs": [],
   "execution_count": 19
  },
  {
   "metadata": {
    "ExecuteTime": {
     "end_time": "2024-11-11T15:38:03.671796Z",
     "start_time": "2024-11-11T15:38:03.664816Z"
    }
   },
   "cell_type": "code",
   "source": "marge_df.head(10)",
   "id": "4fb2536a90a4749",
   "outputs": [
    {
     "data": {
      "text/plain": [
       "        DATE  Current_Rate  year  month  Change_From_Last_Month  OBS_VALUE  \\\n",
       "0 1993-01-01          3.02  1993      1                     NaN        NaN   \n",
       "1 1993-02-01          3.03  1993      2                    0.01        NaN   \n",
       "2 1993-03-01          3.07  1993      3                    0.04        NaN   \n",
       "3 1993-04-01          2.96  1993      4                   -0.11        NaN   \n",
       "4 1993-05-01          3.00  1993      5                    0.04        NaN   \n",
       "5 1993-06-01          3.04  1993      6                    0.04        NaN   \n",
       "6 1993-07-01          3.06  1993      7                    0.02        NaN   \n",
       "7 1993-08-01          3.03  1993      8                   -0.03        NaN   \n",
       "8 1993-09-01          3.09  1993      9                    0.06        NaN   \n",
       "9 1993-10-01          2.99  1993     10                   -0.10        NaN   \n",
       "\n",
       "   Change_Percentage  \n",
       "0                NaN  \n",
       "1                NaN  \n",
       "2                NaN  \n",
       "3                NaN  \n",
       "4                NaN  \n",
       "5                NaN  \n",
       "6                NaN  \n",
       "7                NaN  \n",
       "8                NaN  \n",
       "9                NaN  "
      ],
      "text/html": [
       "<div>\n",
       "<style scoped>\n",
       "    .dataframe tbody tr th:only-of-type {\n",
       "        vertical-align: middle;\n",
       "    }\n",
       "\n",
       "    .dataframe tbody tr th {\n",
       "        vertical-align: top;\n",
       "    }\n",
       "\n",
       "    .dataframe thead th {\n",
       "        text-align: right;\n",
       "    }\n",
       "</style>\n",
       "<table border=\"1\" class=\"dataframe\">\n",
       "  <thead>\n",
       "    <tr style=\"text-align: right;\">\n",
       "      <th></th>\n",
       "      <th>DATE</th>\n",
       "      <th>Current_Rate</th>\n",
       "      <th>year</th>\n",
       "      <th>month</th>\n",
       "      <th>Change_From_Last_Month</th>\n",
       "      <th>OBS_VALUE</th>\n",
       "      <th>Change_Percentage</th>\n",
       "    </tr>\n",
       "  </thead>\n",
       "  <tbody>\n",
       "    <tr>\n",
       "      <th>0</th>\n",
       "      <td>1993-01-01</td>\n",
       "      <td>3.02</td>\n",
       "      <td>1993</td>\n",
       "      <td>1</td>\n",
       "      <td>NaN</td>\n",
       "      <td>NaN</td>\n",
       "      <td>NaN</td>\n",
       "    </tr>\n",
       "    <tr>\n",
       "      <th>1</th>\n",
       "      <td>1993-02-01</td>\n",
       "      <td>3.03</td>\n",
       "      <td>1993</td>\n",
       "      <td>2</td>\n",
       "      <td>0.01</td>\n",
       "      <td>NaN</td>\n",
       "      <td>NaN</td>\n",
       "    </tr>\n",
       "    <tr>\n",
       "      <th>2</th>\n",
       "      <td>1993-03-01</td>\n",
       "      <td>3.07</td>\n",
       "      <td>1993</td>\n",
       "      <td>3</td>\n",
       "      <td>0.04</td>\n",
       "      <td>NaN</td>\n",
       "      <td>NaN</td>\n",
       "    </tr>\n",
       "    <tr>\n",
       "      <th>3</th>\n",
       "      <td>1993-04-01</td>\n",
       "      <td>2.96</td>\n",
       "      <td>1993</td>\n",
       "      <td>4</td>\n",
       "      <td>-0.11</td>\n",
       "      <td>NaN</td>\n",
       "      <td>NaN</td>\n",
       "    </tr>\n",
       "    <tr>\n",
       "      <th>4</th>\n",
       "      <td>1993-05-01</td>\n",
       "      <td>3.00</td>\n",
       "      <td>1993</td>\n",
       "      <td>5</td>\n",
       "      <td>0.04</td>\n",
       "      <td>NaN</td>\n",
       "      <td>NaN</td>\n",
       "    </tr>\n",
       "    <tr>\n",
       "      <th>5</th>\n",
       "      <td>1993-06-01</td>\n",
       "      <td>3.04</td>\n",
       "      <td>1993</td>\n",
       "      <td>6</td>\n",
       "      <td>0.04</td>\n",
       "      <td>NaN</td>\n",
       "      <td>NaN</td>\n",
       "    </tr>\n",
       "    <tr>\n",
       "      <th>6</th>\n",
       "      <td>1993-07-01</td>\n",
       "      <td>3.06</td>\n",
       "      <td>1993</td>\n",
       "      <td>7</td>\n",
       "      <td>0.02</td>\n",
       "      <td>NaN</td>\n",
       "      <td>NaN</td>\n",
       "    </tr>\n",
       "    <tr>\n",
       "      <th>7</th>\n",
       "      <td>1993-08-01</td>\n",
       "      <td>3.03</td>\n",
       "      <td>1993</td>\n",
       "      <td>8</td>\n",
       "      <td>-0.03</td>\n",
       "      <td>NaN</td>\n",
       "      <td>NaN</td>\n",
       "    </tr>\n",
       "    <tr>\n",
       "      <th>8</th>\n",
       "      <td>1993-09-01</td>\n",
       "      <td>3.09</td>\n",
       "      <td>1993</td>\n",
       "      <td>9</td>\n",
       "      <td>0.06</td>\n",
       "      <td>NaN</td>\n",
       "      <td>NaN</td>\n",
       "    </tr>\n",
       "    <tr>\n",
       "      <th>9</th>\n",
       "      <td>1993-10-01</td>\n",
       "      <td>2.99</td>\n",
       "      <td>1993</td>\n",
       "      <td>10</td>\n",
       "      <td>-0.10</td>\n",
       "      <td>NaN</td>\n",
       "      <td>NaN</td>\n",
       "    </tr>\n",
       "  </tbody>\n",
       "</table>\n",
       "</div>"
      ]
     },
     "execution_count": 21,
     "metadata": {},
     "output_type": "execute_result"
    }
   ],
   "execution_count": 21
  },
  {
   "metadata": {
    "ExecuteTime": {
     "end_time": "2024-11-11T15:38:06.772822Z",
     "start_time": "2024-11-11T15:38:06.769113Z"
    }
   },
   "cell_type": "code",
   "source": [
    "# B - 2\n",
    "# your code here\n",
    "marge_df['Rate_Differenc'] = marge_df['Current_Rate'] - marge_df['OBS_VALUE']"
   ],
   "id": "7f18978fee56c6d6",
   "outputs": [],
   "execution_count": 22
  },
  {
   "metadata": {
    "ExecuteTime": {
     "end_time": "2024-11-11T15:38:13.038397Z",
     "start_time": "2024-11-11T15:38:13.023931Z"
    }
   },
   "cell_type": "code",
   "source": [
    "# B - 4\n",
    "# your code here\n",
    "total_marge = pd.merge(chenge, marge_df, on = ['year','month'], how = 'left')\n",
    "total_marge = total_marge[12:361]\n",
    "total_marge.head(10)"
   ],
   "id": "3145d351d7cbe982",
   "outputs": [
    {
     "data": {
      "text/plain": [
       "    year  month  Current_Rate_chenge  Change_From_Last_Month_USD_ILS  \\\n",
       "12  1994      1                 0.17                           -0.07   \n",
       "13  1994      2                -0.37                           -0.54   \n",
       "14  1994      3                -0.33                            0.04   \n",
       "15  1994      4                 1.18                            1.51   \n",
       "16  1994      5                 1.17                           -0.01   \n",
       "17  1994      6                -0.31                           -1.48   \n",
       "18  1994      7                 1.17                            1.48   \n",
       "19  1994      8                -1.05                           -2.22   \n",
       "20  1994      9                -0.41                            0.64   \n",
       "21  1994     10                -0.32                            0.09   \n",
       "\n",
       "         DATE  Current_Rate  Change_From_Last_Month  OBS_VALUE  \\\n",
       "12 1994-01-01          3.05                    0.09  10.500000   \n",
       "13 1994-02-01          3.25                    0.20  10.500000   \n",
       "14 1994-03-01          3.34                    0.09  10.500000   \n",
       "15 1994-04-01          3.56                    0.22  10.500000   \n",
       "16 1994-05-01          4.01                    0.45  10.919355   \n",
       "17 1994-06-01          4.25                    0.24  11.516667   \n",
       "18 1994-07-01          4.26                    0.01  12.064516   \n",
       "19 1994-08-01          4.47                    0.21  12.500000   \n",
       "20 1994-09-01          4.73                    0.26  14.100000   \n",
       "21 1994-10-01          4.76                    0.03  15.500000   \n",
       "\n",
       "    Change_Percentage  Rate_Differenc  \n",
       "12                NaN       -7.450000  \n",
       "13           0.000000       -7.250000  \n",
       "14           0.000000       -7.160000  \n",
       "15           0.000000       -6.940000  \n",
       "16           0.419355       -6.909355  \n",
       "17           0.597312       -7.266667  \n",
       "18           0.547849       -7.804516  \n",
       "19           0.435484       -8.030000  \n",
       "20           1.600000       -9.370000  \n",
       "21           1.400000      -10.740000  "
      ],
      "text/html": [
       "<div>\n",
       "<style scoped>\n",
       "    .dataframe tbody tr th:only-of-type {\n",
       "        vertical-align: middle;\n",
       "    }\n",
       "\n",
       "    .dataframe tbody tr th {\n",
       "        vertical-align: top;\n",
       "    }\n",
       "\n",
       "    .dataframe thead th {\n",
       "        text-align: right;\n",
       "    }\n",
       "</style>\n",
       "<table border=\"1\" class=\"dataframe\">\n",
       "  <thead>\n",
       "    <tr style=\"text-align: right;\">\n",
       "      <th></th>\n",
       "      <th>year</th>\n",
       "      <th>month</th>\n",
       "      <th>Current_Rate_chenge</th>\n",
       "      <th>Change_From_Last_Month_USD_ILS</th>\n",
       "      <th>DATE</th>\n",
       "      <th>Current_Rate</th>\n",
       "      <th>Change_From_Last_Month</th>\n",
       "      <th>OBS_VALUE</th>\n",
       "      <th>Change_Percentage</th>\n",
       "      <th>Rate_Differenc</th>\n",
       "    </tr>\n",
       "  </thead>\n",
       "  <tbody>\n",
       "    <tr>\n",
       "      <th>12</th>\n",
       "      <td>1994</td>\n",
       "      <td>1</td>\n",
       "      <td>0.17</td>\n",
       "      <td>-0.07</td>\n",
       "      <td>1994-01-01</td>\n",
       "      <td>3.05</td>\n",
       "      <td>0.09</td>\n",
       "      <td>10.500000</td>\n",
       "      <td>NaN</td>\n",
       "      <td>-7.450000</td>\n",
       "    </tr>\n",
       "    <tr>\n",
       "      <th>13</th>\n",
       "      <td>1994</td>\n",
       "      <td>2</td>\n",
       "      <td>-0.37</td>\n",
       "      <td>-0.54</td>\n",
       "      <td>1994-02-01</td>\n",
       "      <td>3.25</td>\n",
       "      <td>0.20</td>\n",
       "      <td>10.500000</td>\n",
       "      <td>0.000000</td>\n",
       "      <td>-7.250000</td>\n",
       "    </tr>\n",
       "    <tr>\n",
       "      <th>14</th>\n",
       "      <td>1994</td>\n",
       "      <td>3</td>\n",
       "      <td>-0.33</td>\n",
       "      <td>0.04</td>\n",
       "      <td>1994-03-01</td>\n",
       "      <td>3.34</td>\n",
       "      <td>0.09</td>\n",
       "      <td>10.500000</td>\n",
       "      <td>0.000000</td>\n",
       "      <td>-7.160000</td>\n",
       "    </tr>\n",
       "    <tr>\n",
       "      <th>15</th>\n",
       "      <td>1994</td>\n",
       "      <td>4</td>\n",
       "      <td>1.18</td>\n",
       "      <td>1.51</td>\n",
       "      <td>1994-04-01</td>\n",
       "      <td>3.56</td>\n",
       "      <td>0.22</td>\n",
       "      <td>10.500000</td>\n",
       "      <td>0.000000</td>\n",
       "      <td>-6.940000</td>\n",
       "    </tr>\n",
       "    <tr>\n",
       "      <th>16</th>\n",
       "      <td>1994</td>\n",
       "      <td>5</td>\n",
       "      <td>1.17</td>\n",
       "      <td>-0.01</td>\n",
       "      <td>1994-05-01</td>\n",
       "      <td>4.01</td>\n",
       "      <td>0.45</td>\n",
       "      <td>10.919355</td>\n",
       "      <td>0.419355</td>\n",
       "      <td>-6.909355</td>\n",
       "    </tr>\n",
       "    <tr>\n",
       "      <th>17</th>\n",
       "      <td>1994</td>\n",
       "      <td>6</td>\n",
       "      <td>-0.31</td>\n",
       "      <td>-1.48</td>\n",
       "      <td>1994-06-01</td>\n",
       "      <td>4.25</td>\n",
       "      <td>0.24</td>\n",
       "      <td>11.516667</td>\n",
       "      <td>0.597312</td>\n",
       "      <td>-7.266667</td>\n",
       "    </tr>\n",
       "    <tr>\n",
       "      <th>18</th>\n",
       "      <td>1994</td>\n",
       "      <td>7</td>\n",
       "      <td>1.17</td>\n",
       "      <td>1.48</td>\n",
       "      <td>1994-07-01</td>\n",
       "      <td>4.26</td>\n",
       "      <td>0.01</td>\n",
       "      <td>12.064516</td>\n",
       "      <td>0.547849</td>\n",
       "      <td>-7.804516</td>\n",
       "    </tr>\n",
       "    <tr>\n",
       "      <th>19</th>\n",
       "      <td>1994</td>\n",
       "      <td>8</td>\n",
       "      <td>-1.05</td>\n",
       "      <td>-2.22</td>\n",
       "      <td>1994-08-01</td>\n",
       "      <td>4.47</td>\n",
       "      <td>0.21</td>\n",
       "      <td>12.500000</td>\n",
       "      <td>0.435484</td>\n",
       "      <td>-8.030000</td>\n",
       "    </tr>\n",
       "    <tr>\n",
       "      <th>20</th>\n",
       "      <td>1994</td>\n",
       "      <td>9</td>\n",
       "      <td>-0.41</td>\n",
       "      <td>0.64</td>\n",
       "      <td>1994-09-01</td>\n",
       "      <td>4.73</td>\n",
       "      <td>0.26</td>\n",
       "      <td>14.100000</td>\n",
       "      <td>1.600000</td>\n",
       "      <td>-9.370000</td>\n",
       "    </tr>\n",
       "    <tr>\n",
       "      <th>21</th>\n",
       "      <td>1994</td>\n",
       "      <td>10</td>\n",
       "      <td>-0.32</td>\n",
       "      <td>0.09</td>\n",
       "      <td>1994-10-01</td>\n",
       "      <td>4.76</td>\n",
       "      <td>0.03</td>\n",
       "      <td>15.500000</td>\n",
       "      <td>1.400000</td>\n",
       "      <td>-10.740000</td>\n",
       "    </tr>\n",
       "  </tbody>\n",
       "</table>\n",
       "</div>"
      ]
     },
     "execution_count": 23,
     "metadata": {},
     "output_type": "execute_result"
    }
   ],
   "execution_count": 23
  },
  {
   "metadata": {
    "ExecuteTime": {
     "end_time": "2024-11-11T15:38:16.134207Z",
     "start_time": "2024-11-11T15:38:15.904321Z"
    }
   },
   "cell_type": "code",
   "source": [
    "# B - 5\n",
    "# your code here\n",
    "plt.figure()\n",
    "plt.scatter(total_marge['Rate_Differenc'],total_marge['Current_Rate_chenge'])\n",
    "plt.xlabel('Rate Differenc')\n",
    "plt.ylabel('Current_Rate_chenge %')\n",
    "plt.title('Rate Differenc and Current_Rate_chenge correlation')\n",
    "plt.show()"
   ],
   "id": "fe04eba74c68ab35",
   "outputs": [
    {
     "data": {
      "text/plain": [
       "<Figure size 640x480 with 1 Axes>"
      ],
      "image/png": "[encoded data removed]"
     },
     "metadata": {},
     "output_type": "display_data"
    }
   ],
   "execution_count": 24
  },
  {
   "metadata": {},
   "cell_type": "markdown",
   "source": "מהגרף ניתן לראות כי יחס ההמרה שומר על מגמה יציבה ולא מושפע מיחס הריבית",
   "id": "ae9ce7bbc25457f1"
  },
  {
   "metadata": {},
   "cell_type": "markdown",
   "source": [
    "## Part C: Analyzing Relationships Between DataFrames\n",
    "1. Analyze whether increases in US interest rates are associated with increases or decreases in the USD to ILS exchange rate in the same month.\n",
    "\n",
    "2. Determine if changes in the Israeli interest rate have a stronger impact on the exchange rate than changes in the US interest rate.\n",
    "\n",
    "3. Find any time lags in the effect of interest rate changes on the exchange rate. For example, does a change in US interest rates affect the exchange rate in the following month?\n",
    "(כלומר- האם כשיש שינוי בריבית כלשהי - האם מייד יש שינוי בשער ההמרה? או שיש דיליי של חודש/חודשים עד שמרגישים את ההשפעה - אם בכלל?)\n",
    "\n",
    "4. Calculate the rolling past 3-month average of the exchange rate for each data time, and add it as a new column.\n",
    "\n",
    "5. Identify any periods where both US and Israeli interest rates were decreasing, and analyze how the exchange rate behaved during those periods.\n",
    "\n"
   ],
   "id": "22213f81bdf06965"
  },
  {
   "metadata": {
    "ExecuteTime": {
     "end_time": "2024-11-11T15:38:20.716748Z",
     "start_time": "2024-11-11T15:38:20.633474Z"
    }
   },
   "cell_type": "code",
   "source": [
    "# Bonus \n",
    "plt.figure()\n",
    "plt.scatter(usa_interes.Current_Rate[:361], chenge['Current_Rate_chenge'][:361])\n",
    "plt.xlabel('Current_Rate_chenge')\n",
    "plt.ylabel('Current_Rate_chenge %')\n",
    "plt.title('Current_Rate_chenge correlation')\n",
    "plt.show()"
   ],
   "id": "706a690fd803211c",
   "outputs": [
    {
     "data": {
      "text/plain": [
       "<Figure size 640x480 with 1 Axes>"
      ],
      "image/png": "[encoded data removed]"
     },
     "metadata": {},
     "output_type": "display_data"
    }
   ],
   "execution_count": 25
  },
  {
   "metadata": {},
   "cell_type": "markdown",
   "source": [
    "# Bonus\n",
    "choose 3 global / local events or periods that you think could have affected the exchange rate or interest rates\n",
    "and analyze the effect of these events on the data you collected.\n",
    "show proof of your analysis that supports your claim.\n",
    "\n",
    "(כלומר- תבחנו אירועים שקרו בתקופה שאתם עובדים עליה ובדקו איך הם השפיעו על הנתונים שאתם עובדים איתם)\n",
    "למשל: בחירות בארה״ב, בחירות בישראל, רוסיה אוקראינה, מלחמות בישראל וכו׳."
   ],
   "id": "8be22debf92d8f3a"
  },
  {
   "metadata": {},
   "cell_type": "code",
   "source": "# Your code here",
   "id": "7cd992b43f3700e8",
   "outputs": [],
   "execution_count": null
  }
 ],
 "metadata": {
  "kernelspec": {
   "display_name": "Python 3",
   "language": "python",
   "name": "python3"
  },
  "language_info": {
   "codemirror_mode": {
    "name": "ipython",
    "version": 2
   },
   "file_extension": ".py",
   "mimetype": "text/x-python",
   "name": "python",
   "nbconvert_exporter": "python",
   "pygments_lexer": "ipython2",
   "version": "2.7.6"
  }
 },
 "nbformat": 4,
 "nbformat_minor": 5
}
